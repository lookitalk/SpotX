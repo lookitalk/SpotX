{
  "cells": [
    {
      "cell_type": "markdown",
      "metadata": {
        "id": "view-in-github",
        "colab_type": "text"
      },
      "source": [
        "<a href=\"https://colab.research.google.com/github/lookitalk/SpotX/blob/main/google_colab.ipynb\" target=\"_parent\"><img src=\"https://colab.research.google.com/assets/colab-badge.svg\" alt=\"Open In Colab\"/></a>"
      ]
    },
    {
      "cell_type": "markdown",
      "metadata": {
        "id": "WAJ7lA2wuvR8"
      },
      "source": [
        "# 运行教程\n",
        "\n",
        "1. 点击“修改” -> \"笔记本设置\" -> \"硬件加速器GPU\" -> 保存\n",
        "<img src=\"https://z3.ax1x.com/2021/03/30/ciQWWV.png\">\n",
        "\n",
        "2. 点左侧文件夹图标，上传视频文件，复制上传的视频路径\n",
        "\n",
        "<img src=\"https://z3.ax1x.com/2021/03/30/cilvhq.png\">\n",
        "\n",
        "3. 运行代码， 输入粘贴的视频路径\n",
        "\n",
        "\n"
      ]
    },
    {
      "cell_type": "markdown",
      "metadata": {
        "id": "_jPi_FBwyZyr"
      },
      "source": [
        "查看是否有GPU"
      ]
    },
    {
      "cell_type": "code",
      "execution_count": 2,
      "metadata": {
        "id": "eHPHc_Bheo-j",
        "outputId": "03e21c40-ac1d-495b-9a56-356c518667a0",
        "colab": {
          "base_uri": "https://localhost:8080/"
        }
      },
      "outputs": [
        {
          "output_type": "stream",
          "name": "stdout",
          "text": [
            "Sat Aug  2 04:05:54 2025       \n",
            "+-----------------------------------------------------------------------------------------+\n",
            "| NVIDIA-SMI 550.54.15              Driver Version: 550.54.15      CUDA Version: 12.4     |\n",
            "|-----------------------------------------+------------------------+----------------------+\n",
            "| GPU  Name                 Persistence-M | Bus-Id          Disp.A | Volatile Uncorr. ECC |\n",
            "| Fan  Temp   Perf          Pwr:Usage/Cap |           Memory-Usage | GPU-Util  Compute M. |\n",
            "|                                         |                        |               MIG M. |\n",
            "|=========================================+========================+======================|\n",
            "|   0  Tesla T4                       Off |   00000000:00:04.0 Off |                    0 |\n",
            "| N/A   55C    P8             12W /   70W |       0MiB /  15360MiB |      0%      Default |\n",
            "|                                         |                        |                  N/A |\n",
            "+-----------------------------------------+------------------------+----------------------+\n",
            "                                                                                         \n",
            "+-----------------------------------------------------------------------------------------+\n",
            "| Processes:                                                                              |\n",
            "|  GPU   GI   CI        PID   Type   Process name                              GPU Memory |\n",
            "|        ID   ID                                                               Usage      |\n",
            "|=========================================================================================|\n",
            "|  No running processes found                                                             |\n",
            "+-----------------------------------------------------------------------------------------+\n"
          ]
        }
      ],
      "source": [
        "!nvidia-smi"
      ]
    },
    {
      "cell_type": "code",
      "execution_count": 3,
      "metadata": {
        "id": "TkQKKGKZkkT2",
        "outputId": "7d1ca933-976f-4af5-f2d8-7656ffd88de2",
        "colab": {
          "base_uri": "https://localhost:8080/"
        }
      },
      "outputs": [
        {
          "output_type": "stream",
          "name": "stdout",
          "text": [
            "nvcc: NVIDIA (R) Cuda compiler driver\n",
            "Copyright (c) 2005-2024 NVIDIA Corporation\n",
            "Built on Thu_Jun__6_02:18:23_PDT_2024\n",
            "Cuda compilation tools, release 12.5, V12.5.82\n",
            "Build cuda_12.5.r12.5/compiler.34385749_0\n"
          ]
        }
      ],
      "source": [
        "!nvcc -V"
      ]
    },
    {
      "cell_type": "markdown",
      "metadata": {
        "id": "_85O6zgPyhto"
      },
      "source": [
        "# 安装依赖"
      ]
    },
    {
      "cell_type": "code",
      "execution_count": 4,
      "metadata": {
        "id": "ICeq0T1FeqjT",
        "outputId": "c04f861b-dc52-4d79-d22b-2910f596b8df",
        "colab": {
          "base_uri": "https://localhost:8080/"
        }
      },
      "outputs": [
        {
          "output_type": "stream",
          "name": "stdout",
          "text": [
            "Cloning into 'video-subtitle-extractor'...\n",
            "remote: Enumerating objects: 193, done.\u001b[K\n",
            "remote: Counting objects: 100% (193/193), done.\u001b[K\n",
            "remote: Compressing objects: 100% (177/177), done.\u001b[K\n",
            "remote: Total 193 (delta 15), reused 160 (delta 11), pack-reused 0 (from 0)\u001b[K\n",
            "Receiving objects: 100% (193/193), 964.97 MiB | 16.85 MiB/s, done.\n",
            "Resolving deltas: 100% (15/15), done.\n",
            "Updating files: 100% (162/162), done.\n"
          ]
        }
      ],
      "source": [
        "!git clone --depth=1 https://github.com/YaoFANGUK/video-subtitle-extractor.git"
      ]
    },
    {
      "cell_type": "code",
      "execution_count": 9,
      "metadata": {
        "id": "GHutEWynkMKR",
        "outputId": "02d0797b-0970-4008-dbf7-944160e40c6a",
        "colab": {
          "base_uri": "https://localhost:8080/"
        }
      },
      "outputs": [
        {
          "output_type": "stream",
          "name": "stdout",
          "text": [
            "[Errno 2] No such file or directory: 'video-subtitle-extractor'\n",
            "/content/video-subtitle-extractor\n"
          ]
        }
      ],
      "source": [
        "cd video-subtitle-extractor"
      ]
    },
    {
      "cell_type": "code",
      "execution_count": 8,
      "metadata": {
        "id": "ynJydzo1kMKR",
        "outputId": "5914a637-5154-4daa-85f2-4cf53151b9ca",
        "colab": {
          "base_uri": "https://localhost:8080/"
        }
      },
      "outputs": [
        {
          "output_type": "stream",
          "name": "stdout",
          "text": [
            "\u001b[31mERROR: Could not open requirements file: [Errno 2] No such file or directory: 'requirements_gpu.txt'\u001b[0m\u001b[31m\n",
            "\u001b[0m"
          ]
        }
      ],
      "source": [
        "!pip install -r requirements_gpu.txt"
      ]
    },
    {
      "cell_type": "code",
      "execution_count": null,
      "metadata": {
        "id": "3-GdvmaGl-aF"
      },
      "outputs": [],
      "source": [
        "!pip install paddlepaddle-gpu==2.4.2.post117 -f https://www.paddlepaddle.org.cn/whl/linux/mkl/avx/stable.html"
      ]
    },
    {
      "cell_type": "markdown",
      "metadata": {
        "id": "SGb0i3tPyw9Q"
      },
      "source": [
        "# 运行程序"
      ]
    },
    {
      "cell_type": "markdown",
      "metadata": {
        "id": "AuDZ0IsB8Suc"
      },
      "source": [
        "输入视频路径，如：/content/video-subtitle-extractor/test/test_cn2.mp4\n",
        "\n",
        "输入字幕区域，如：842 1069 72 1368"
      ]
    },
    {
      "cell_type": "code",
      "execution_count": 1,
      "metadata": {
        "id": "B2MPjMOOgGbD",
        "outputId": "8a8419c2-0ddb-430b-dfb3-2b141e891c87",
        "colab": {
          "base_uri": "https://localhost:8080/"
        }
      },
      "outputs": [
        {
          "output_type": "stream",
          "name": "stdout",
          "text": [
            "python3: can't open file '/content/./backend/main.py': [Errno 2] No such file or directory\n"
          ]
        }
      ],
      "source": [
        "!python ./backend/main.py"
      ]
    }
  ],
  "metadata": {
    "accelerator": "GPU",
    "colab": {
      "name": "video-subtitle-extractor.ipynb",
      "provenance": [],
      "include_colab_link": true
    },
    "kernelspec": {
      "display_name": "Python 3 (ipykernel)",
      "language": "python",
      "name": "python3"
    },
    "language_info": {
      "codemirror_mode": {
        "name": "ipython",
        "version": 3
      },
      "file_extension": ".py",
      "mimetype": "text/x-python",
      "name": "python",
      "nbconvert_exporter": "python",
      "pygments_lexer": "ipython3",
      "version": "3.8.5"
    }
  },
  "nbformat": 4,
  "nbformat_minor": 0
}